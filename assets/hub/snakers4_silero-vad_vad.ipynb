{
 "cells": [
  {
   "cell_type": "markdown",
   "id": "american-brazil",
   "metadata": {},
   "source": [
    "### This notebook is optionally accelerated with a GPU runtime.\n",
    "### If you would like to use this acceleration, please select the menu option \"Runtime\" -> \"Change runtime type\", select \"Hardware Accelerator\" -> \"GPU\" and click \"SAVE\"\n",
    "\n",
    "----------------------------------------------------------------------\n",
    "\n",
    "# Silero Voice Activity Detector\n",
    "\n",
    "*Author: Silero AI Team*\n",
    "\n",
    "**Pre-trained Voice Activity Detector**\n",
    "\n",
    "<img src=\"https://pytorch.org/assets/images/silero_vad_performance.png\" alt=\"alt\" width=\"50%\"/>"
   ]
  },
  {
   "cell_type": "code",
   "execution_count": null,
   "id": "worldwide-burner",
   "metadata": {},
   "outputs": [],
   "source": [
    "%%bash\n",
    "# this assumes that you have a proper version of PyTorch already installed\n",
    "pip install -q torchaudio soundfile"
   ]
  },
  {
   "cell_type": "code",
   "execution_count": null,
   "id": "social-virtue",
   "metadata": {},
   "outputs": [],
   "source": [
    "import torch\n",
    "torch.set_num_threads(1)\n",
    "from pprint import pprint\n",
    "\n",
    "model, utils = torch.hub.load(repo_or_dir='snakers4/silero-vad',\n",
    "                              model='silero_vad',\n",
    "                              force_reload=True)\n",
    "\n",
    "(get_speech_ts,\n",
    " _, _, read_audio,\n",
    " _, _, _) = utils\n",
    "\n",
    "files_dir = torch.hub.get_dir() + '/snakers4_silero-vad_master/files'\n",
    "\n",
    "wav = read_audio(f'{files_dir}/en.wav')\n",
    "speech_timestamps = get_speech_ts(wav, model,\n",
    "                                  num_steps=4)\n",
    "pprint(speech_timestamps)"
   ]
  },
  {
   "cell_type": "markdown",
   "id": "quick-permission",
   "metadata": {},
   "source": [
    "### Model Description\n",
    "\n",
    "Silero VAD: pre-trained enterprise-grade Voice Activity Detector (VAD), Number Detector and Language Classifier. Enterprise-grade Speech Products made refreshingly simple (see our STT models). **Each model is published separately**.\n",
    "\n",
    "Currently, there are hardly any high quality / modern / free / public voice activity detectors except for WebRTC Voice Activity Detector (link). WebRTC though starts to show its age and it suffers from many false positives.\n",
    "\n",
    "Also in some cases it is crucial to be able to anonymize large-scale spoken corpora (i.e. remove personal data). Typically personal data is considered to be private / sensitive if it contains (i) a name (ii) some private ID. Name recognition is a highly subjective matter and it depends on locale and business case, but Voice Activity and Number Detection are quite general tasks.\n",
    "\n",
    "**(!!!) Important Notice (!!!)** - the models are intended to run on CPU only and were optimized for performance on 1 CPU thread. Note that the model is quantized.\n",
    "\n",
    "\n",
    "### Supported Languages\n",
    "\n",
    "As of this page update, the following languages are supported:\n",
    "\n",
    "- Russian\n",
    "- English\n",
    "- German\n",
    "- Spanish\n",
    "\n",
    "Please note that in theory the VAD should also work fine with similar / related languages (e.g. Germanic, Slavic or Romance languages). To see the always up-to-date language list, please visit our [repo](https://github.com/snakers4/silero-vad).\n",
    "\n",
    "### Additional Examples and Benchmarks\n",
    "\n",
    "For additional examples and other model formats please visit this [link](https://github.com/snakers4/silero-vad) and please refer to the extensive examples in the Colab format (including the streaming examples).\n",
    "\n",
    "### References\n",
    "\n",
    "VAD model architectures are based on similar STT architectures.\n",
    "\n",
    "- [Silero VAD](https://github.com/snakers4/silero-vad)\n",
    "- [Alexander Veysov, \"Toward's an ImageNet Moment for Speech-to-Text\", The Gradient, 2020](https://thegradient.pub/towards-an-imagenet-moment-for-speech-to-text/)\n",
    "- [Alexander Veysov, \"A Speech-To-Text Practitioner’s Criticisms of Industry and Academia\", The Gradient, 2020](https://thegradient.pub/a-speech-to-text-practitioners-criticisms-of-industry-and-academia/)"
   ]
  }
 ],
 "metadata": {},
 "nbformat": 4,
 "nbformat_minor": 5
}
